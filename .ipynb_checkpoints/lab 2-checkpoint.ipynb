{
 "cells": [
  {
   "cell_type": "code",
   "execution_count": 28,
   "id": "1654633e-f81f-4922-b668-bd0ef318b510",
   "metadata": {},
   "outputs": [],
   "source": [
    "import cv2\n",
    "import numpy as np\n",
    "import matplotlib.pyplot as plt"
   ]
  },
  {
   "cell_type": "code",
   "execution_count": null,
   "id": "45f40038-9e68-4e91-b527-34cc89fe188e",
   "metadata": {},
   "outputs": [
    {
     "name": "stdout",
     "output_type": "stream",
     "text": [
      "zoom shape: (4700, 8354, 3)\n",
      "img shape: (4177, 2350, 3)\n"
     ]
    },
    {
     "name": "stderr",
     "output_type": "stream",
     "text": [
      "Warning: Ignoring XDG_SESSION_TYPE=wayland on Gnome. Use QT_QPA_PLATFORM=wayland to run on Wayland anyway.\n"
     ]
    }
   ],
   "source": [
    "def zoom(img, scale_factor):\n",
    "    orig_x, orig_y = img.shape[:2]  \n",
    "    dw = int(orig_x * scale_factor) \n",
    "    dh = int(orig_y * scale_factor)  \n",
    "   \n",
    "    zoom = np.zeros((dh, dw, img.shape[2]), dtype=np.uint8) \n",
    "    print(\"zoom shape:\", zoom.shape)\n",
    "    print(\"img shape:\", img.shape)\n",
    "\n",
    "    for i in range(dh):\n",
    "        for j in range(dw):\n",
    "            orig_i = int(i / scale_factor)  \n",
    "            orig_j = int(j / scale_factor)  \n",
    "            \n",
    "        \n",
    "            orig_i = min(orig_i, orig_x - 1)\n",
    "            orig_j = min(orig_j, orig_y - 1)\n",
    "\n",
    "            zoom[i, j] = img[orig_i, orig_j]  \n",
    "\n",
    "    return zoom\n",
    "\n",
    "\n",
    "img = cv2.imread(\"p1.jpg\") \n",
    "img_rgb = cv2.cvtColor(img, cv2.COLOR_BGR2RGB)\n",
    "zoomed_image = zoom(img_rgb, 2)\n",
    "cv2.imshow(\"zoom\",zoomed_image)\n",
    "cv2.waitKey(0)\n",
    "cv2.destroyAllWindows()"
   ]
  },
  {
   "cell_type": "code",
   "execution_count": null,
   "id": "422fd10c-9763-4621-ab1e-f392b503029d",
   "metadata": {},
   "outputs": [],
   "source": [
    "\n",
    "image = cv2.imread('your_image.jpg', cv2.IMREAD_GRAYSCALE)\n",
    "\n",
    "    def reduce_bit_depth(image, bits):\n",
    "       \n",
    "        gray_levels = 2 ** bits\n",
    "       \n",
    "        reduced_image = (image // (256 // gray_levels)) * (256 // gray_levels)\n",
    "        return reduced_image\n",
    "    \n",
    "\n",
    "    decomposed_images = {\n",
    "        \"1-bit\": reduce_bit_depth(image, 1),\n",
    "        \"2-bit\": reduce_bit_depth(image, 2),\n",
    "        \"4-bit\": reduce_bit_depth(image, 4),\n",
    "        \"8-bit\": image  # Original image, typically 8-bit\n",
    "    }\n",
    "    \n",
    "    # Plot the decomposed images using matplotlib\n",
    "    plt.figure(figsize=(12, 8))\n",
    "    for i, (title, img) in enumerate(decomposed_images.items()):\n",
    "        plt.subplot(2, 2, i + 1)\n",
    "        plt.imshow(img, cmap='gray')\n",
    "        plt.title(f'{title} Resolution')\n",
    "        plt.axis('off')\n",
    "    \n",
    "    plt.tight_layout()\n",
    "    plt.show()\n"
   ]
  },
  {
   "cell_type": "code",
   "execution_count": null,
   "id": "5033de28-bbc7-41ee-9078-310e132eac50",
   "metadata": {},
   "outputs": [],
   "source": []
  },
  {
   "cell_type": "code",
   "execution_count": null,
   "id": "f72493e5-186a-47c0-b1a8-e6a53b076560",
   "metadata": {},
   "outputs": [],
   "source": []
  },
  {
   "cell_type": "code",
   "execution_count": null,
   "id": "b0f8e1eb-94d6-4ae4-a387-e940e1e219eb",
   "metadata": {},
   "outputs": [],
   "source": []
  },
  {
   "cell_type": "code",
   "execution_count": null,
   "id": "90d62f70-e2a1-4e1a-afbc-92064f3d1fbe",
   "metadata": {},
   "outputs": [],
   "source": []
  },
  {
   "cell_type": "code",
   "execution_count": null,
   "id": "e71a5a32-e70b-4aac-b004-912b23580431",
   "metadata": {},
   "outputs": [],
   "source": [
    "  "
   ]
  }
 ],
 "metadata": {
  "kernelspec": {
   "display_name": "Python 3 (ipykernel)",
   "language": "python",
   "name": "python3"
  },
  "language_info": {
   "codemirror_mode": {
    "name": "ipython",
    "version": 3
   },
   "file_extension": ".py",
   "mimetype": "text/x-python",
   "name": "python",
   "nbconvert_exporter": "python",
   "pygments_lexer": "ipython3",
   "version": "3.10.12"
  }
 },
 "nbformat": 4,
 "nbformat_minor": 5
}
